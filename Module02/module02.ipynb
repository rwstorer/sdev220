{
 "cells": [
  {
   "cell_type": "markdown",
   "metadata": {},
   "source": [
    "# Module 2 Programming Assignment - Loops and Conditionals"
   ]
  },
  {
   "cell_type": "markdown",
   "metadata": {},
   "source": [
    "## 4.1 Guess the Number"
   ]
  },
  {
   "cell_type": "code",
   "execution_count": 3,
   "metadata": {},
   "outputs": [
    {
     "name": "stdout",
     "output_type": "stream",
     "text": [
      "too low\n"
     ]
    }
   ],
   "source": [
    "secret: int = 3\n",
    "guess: int = 2\n",
    "\n",
    "if secret == guess:\n",
    "    print('just right')\n",
    "elif secret > guess:\n",
    "    print('too low')\n",
    "elif secret < guess:\n",
    "    print('too high')"
   ]
  },
  {
   "cell_type": "code",
   "execution_count": null,
   "metadata": {},
   "outputs": [
    {
     "name": "stdout",
     "output_type": "stream",
     "text": [
      "You guessed it!\n"
     ]
    }
   ],
   "source": [
    "secret: int = 3\n",
    "guess: int = input('Enter a number between 1 - 10:')\n",
    "if str.isnumeric(guess):\n",
    "    guess = int(guess)\n",
    "while (guess != secret) and (guess != 0):\n",
    "    guess = input('Enter a number between 1 - 10 (or 0 (zero) to quit):')\n",
    "    if str.isnumeric(guess):\n",
    "        guess = int(guess)\n",
    "    else:\n",
    "        continue\n",
    "    if guess > secret:\n",
    "        print('Too high')\n",
    "    elif guess < secret:\n",
    "        print('Too low')\n",
    "\n",
    "if guess == secret:\n",
    "    print('You guessed it!')\n",
    "else:\n",
    "    print('Sorry you had to go.')\n"
   ]
  },
  {
   "cell_type": "markdown",
   "metadata": {},
   "source": [
    "4.2 If We Match"
   ]
  },
  {
   "cell_type": "code",
   "execution_count": null,
   "metadata": {},
   "outputs": [],
   "source": [
    "small: bool = True\n",
    "green: bool = True\n",
    "\n",
    "if small:\n",
    "    if green:\n",
    "        print('pea')\n",
    "    else:\n",
    "        print('cherry')\n",
    "else:\n",
    "    if green:\n",
    "        print('watermelon')\n",
    "    else:\n",
    "        print('pumpkin')"
   ]
  }
 ],
 "metadata": {
  "kernelspec": {
   "display_name": "Python 3",
   "language": "python",
   "name": "python3"
  },
  "language_info": {
   "codemirror_mode": {
    "name": "ipython",
    "version": 3
   },
   "file_extension": ".py",
   "mimetype": "text/x-python",
   "name": "python",
   "nbconvert_exporter": "python",
   "pygments_lexer": "ipython3",
   "version": "3.13.1"
  }
 },
 "nbformat": 4,
 "nbformat_minor": 2
}
