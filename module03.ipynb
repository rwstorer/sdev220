{
 "cells": [
  {
   "cell_type": "markdown",
   "metadata": {},
   "source": [
    "# Module 3\n",
    "\n",
    "## Todo\n",
    "\n",
    "- Read Chapters 8, 9, 10, and 11.\n",
    "- Watch the videos.\n",
    "- Complete the M03 Programming Assignment - Lists and Functions\n",
    "- Complete M03 Tutorial - Functions vs OOP Programming\n",
    "- Complete M03 Case Study: Lists, Functions, and Classes\n",
    "- M03 Final Project Check-In: Proposal\n",
    "- Post in the M03 Discussion - Final Project Check-In\n",
    "- Prepare for Module 4"
   ]
  },
  {
   "cell_type": "markdown",
   "metadata": {},
   "source": [
    "## Chapter 7 - Tuples and Lists"
   ]
  },
  {
   "cell_type": "code",
   "execution_count": 41,
   "metadata": {},
   "outputs": [
    {
     "name": "stdout",
     "output_type": "stream",
     "text": [
      "<class 'tuple'>\n",
      "True\n",
      "<class 'list'>\n",
      "False\n",
      "['Barney', 'Betty', 'Fred', 'Wilma', 0, 1, 2, 3, 4, 5]\n",
      "Barney,Betty,Fred,Wilma\n",
      "['Barney', 'Betty', 'Fred', 'Wilma']\n",
      "[5, 4, [3, 2], 1]\n",
      "[3, 2]\n",
      "[5, 4, [3, 2, 'append'], 1]\n",
      "[5, 4, [3, 2, 'append'], 1, 'a', 'd', 'd', 'e', 'd']\n",
      "multiple 2581965195136\n",
      "copy:\n",
      "m2       2581965868928\n",
      "multiple[2] 2581966800064\n",
      "m2[2]       2581966800064\n",
      "deepcopy:\n",
      "multiple 2581965195136\n",
      "m3       2581965868992\n",
      "multiple[2] 2581966800064\n",
      "m3[2]       2581965207232\n",
      "Number of names: 4\n",
      "['Barney Rubble', 'Betty Rubble', 'Fred Flintstone', 'Wilma Flintstone']\n",
      "7.8:\n",
      "['Groucho', 'Chico', 'Harpo']\n",
      "7.9:\n",
      "harpo\n",
      "oprah\n",
      "Oprah\n"
     ]
    }
   ],
   "source": [
    "import copy\n",
    "\n",
    "# Tuple, an immutable object\n",
    "num_one_to_ten: tuple = (1,2,3,4,5,6,7,8,9,10)\n",
    "print(type(num_one_to_ten))\n",
    "print(5 in num_one_to_ten)\n",
    "\n",
    "# List object\n",
    "num_zero_to_5: list = [0,1,2,3,4,5]\n",
    "names: list = ['Barney','Betty','Fred','Wilma']\n",
    "print(type(num_zero_to_5))\n",
    "print(10 in num_zero_to_5)\n",
    "\n",
    "# Concatenate\n",
    "name_and_num: list = names + num_zero_to_5\n",
    "print(name_and_num)\n",
    "\n",
    "# join and split\n",
    "# note the type error (why?): joined: str = ','.join(num_zero_to_5)\n",
    "joined: str = ','.join(names)\n",
    "print(joined)\n",
    "l_split: list = joined.split(',')\n",
    "print(l_split)\n",
    "\n",
    "# Lists within lists\n",
    "\n",
    "multiple: list = [5,4,[3,2],1]\n",
    "print(multiple)\n",
    "print(multiple[2])\n",
    "# notice what happens here with these two methods for adding and appending to a list\n",
    "multiple[2].append('append')\n",
    "print(multiple)\n",
    "multiple += 'added'\n",
    "print(multiple)\n",
    "print('multiple',id(multiple))\n",
    "\n",
    "# Copy vs Deepcopy\n",
    "print('copy:')\n",
    "m2: list = multiple.copy()\n",
    "print('m2      ',id(m2))\n",
    "print('multiple[2]',id(multiple[2]))\n",
    "print('m2[2]      ',id(m2[2]))\n",
    "\n",
    "print('deepcopy:')\n",
    "m3: list = copy.deepcopy(multiple)\n",
    "print('multiple',id(multiple))\n",
    "print('m3      ',id(m3))\n",
    "print('multiple[2]',id(multiple[2]))\n",
    "print('m3[2]      ',id(m3[2]))\n",
    "\n",
    "# Change a List in a for loop\n",
    "print(f\"Number of names: {len(names)}\")\n",
    "for num in range(0,len(names)):\n",
    "    match num:\n",
    "        case 0:\n",
    "            names[0] = 'Barney Rubble'\n",
    "        case 1:\n",
    "            names[1] = 'Betty Rubble'\n",
    "        case 2:\n",
    "            names[2] = 'Fred Flintstone'\n",
    "        case 3:\n",
    "            names[3] = 'Wilma Flintstone'\n",
    "\n",
    "print(names)\n",
    "\n",
    "print('7.8:')\n",
    "surprise: list = ['Groucho','Chico','Harpo']\n",
    "print(surprise)\n",
    "print('7.9:')\n",
    "surprise[-1] = surprise[-1].lower()\n",
    "print(surprise[-1])\n",
    "surprise[-1] = surprise[-1][::-1] # revers the string in the last list element\n",
    "print(surprise[-1])\n",
    "surprise[-1] = surprise[-1].capitalize()\n",
    "print(surprise[-1])"
   ]
  },
  {
   "cell_type": "markdown",
   "metadata": {},
   "source": [
    "## Chapter 8 - Dictionaries and Sets\n"
   ]
  },
  {
   "cell_type": "code",
   "execution_count": 63,
   "metadata": {},
   "outputs": [
    {
     "name": "stdout",
     "output_type": "stream",
     "text": [
      "Dictionaries\n",
      "{'Diablo 2': 'Blizzard', 'Call of Duty 2': 'Activision', 'Deep Rock Galactic': 'Coffee Stain Publishing'}\n",
      "{'Fred': 'Flintstone', 'Barney': 'Rubble', 'Wilma': 'Flintstone', 'Betty': 'Rubble'}\n",
      "\n",
      "Sets\n",
      "Union: {1, 2, 3, 4, 5}\n",
      "Intersection: {3}\n",
      "\n",
      "Dictionaries and Sets\n",
      "Cartoon Name: The Flintstones\n",
      "Cast members: Fred, Betty, Wilma, Barney\n",
      "Cartoon Name: Looney Toons\n",
      "Cast members: Daffy Duck, Bugs Bunny, Marvin the Martian, Wile E. Coyote, Elmer Fudd\n"
     ]
    }
   ],
   "source": [
    "print('Dictionaries')\n",
    "d: dict = {} # create an empty dictionary\n",
    "games: dict = {\n",
    "    'Diablo 2'          : 'Blizzard',\n",
    "    'Call of Duty 2'    : 'Activision',\n",
    "    'Deep Rock Galactic': 'Coffee Stain Publishing'\n",
    "}\n",
    "print(games)\n",
    "\n",
    "# create a dictionary and then add dictionary items\n",
    "toons: dict = dict(Fred='Flintstone')\n",
    "toons['Barney']='Rubble'\n",
    "toons['Wilma']='Flintstone'\n",
    "toons['Betty']='Rubble'\n",
    "print(toons)\n",
    "\n",
    "print()\n",
    "print('Sets')\n",
    "\n",
    "# Set Union\n",
    "# Notice the number three only comes once\n",
    "# Could also use .union()\n",
    "a_set: set = {1,2,3}\n",
    "b_set: set = {3,4,5}\n",
    "print(f\"Union: {a_set | b_set}\")\n",
    "\n",
    "# Set Intersection\n",
    "# The only common value is 3\n",
    "# Could also use .intersection()\n",
    "print(f\"Intersection: {a_set & b_set}\")\n",
    "\n",
    "# Dictionaries and Sets\n",
    "cnt: int = 0\n",
    "print()\n",
    "print('Dictionaries and Sets')\n",
    "cartoon_cast: dict = {}\n",
    "cartoon_cast['The Flintstones'] = set( ('Barney','Betty','Fred','Wilma') )\n",
    "cartoon_cast['Looney Toons'] = set( ('Bugs Bunny','Elmer Fudd','Marvin the Martian','Wile E. Coyote','Daffy Duck') )\n",
    "for cartoon_name, cast_members in cartoon_cast.items():\n",
    "    cnt = 0\n",
    "    print(f\"Cartoon Name: {cartoon_name}\")\n",
    "    print('Cast members: ',end='')\n",
    "    for cast_member in cast_members:\n",
    "        cnt += 1\n",
    "        if cnt < len(cast_members):\n",
    "            print(f\"{cast_member}\", end=', ')\n",
    "        else:\n",
    "            print(f\"{cast_member}\")"
   ]
  },
  {
   "cell_type": "markdown",
   "metadata": {},
   "source": [
    "## Chapter 9 - Functions"
   ]
  },
  {
   "cell_type": "code",
   "execution_count": 67,
   "metadata": {},
   "outputs": [
    {
     "name": "stdout",
     "output_type": "stream",
     "text": [
      "Is not None\n"
     ]
    }
   ],
   "source": [
    "def this_does_nothing():\n",
    "    pass\n",
    "\n",
    "def is_equal(num1: int, num2: int) -> bool:\n",
    "    \"\"\"\n",
    "    determine if two numbers are equal\n",
    "\n",
    "    Args:\n",
    "        num1 (int): the first object\n",
    "        num2 (int): the second number\n",
    "\n",
    "    Returns:\n",
    "        bool: return True if num1 equals num2\n",
    "    \"\"\"\n",
    "    return num1 == num2\n",
    "\n",
    "def is_none(obj1: object) -> bool:\n",
    "    \"\"\"\n",
    "    Determine if obj1 equals None\n",
    "\n",
    "    Args:\n",
    "        obj1 (object): The object you want to check\n",
    "\n",
    "    Returns:\n",
    "        bool: Return True if obj1 equals None\n",
    "    \"\"\"\n",
    "    return obj1 is None\n",
    "\n",
    "tmp: int = 5\n",
    "if (is_none(tmp)):\n",
    "    print('Is None')\n",
    "else:\n",
    "    print('Is not None')\n"
   ]
  },
  {
   "cell_type": "markdown",
   "metadata": {},
   "source": [
    "## Chapter 10"
   ]
  },
  {
   "cell_type": "code",
   "execution_count": null,
   "metadata": {},
   "outputs": [],
   "source": []
  }
 ],
 "metadata": {
  "kernelspec": {
   "display_name": "Python 3",
   "language": "python",
   "name": "python3"
  },
  "language_info": {
   "codemirror_mode": {
    "name": "ipython",
    "version": 3
   },
   "file_extension": ".py",
   "mimetype": "text/x-python",
   "name": "python",
   "nbconvert_exporter": "python",
   "pygments_lexer": "ipython3",
   "version": "3.12.0"
  }
 },
 "nbformat": 4,
 "nbformat_minor": 2
}
