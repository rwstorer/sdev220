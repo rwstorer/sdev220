{
 "cells": [
  {
   "cell_type": "code",
   "execution_count": 4,
   "metadata": {},
   "outputs": [
    {
     "name": "stdout",
     "output_type": "stream",
     "text": [
      "hello world 2\n"
     ]
    }
   ],
   "source": [
    "print('hello world 2')"
   ]
  },
  {
   "cell_type": "markdown",
   "metadata": {},
   "source": [
    "# This is Header Level 1\n",
    "\n",
    "write some stuff here\n",
    "This is **bold** text\n",
    "This is *italic* text\n",
    "\n",
    "## This is Header Level 2\n",
    "\n",
    "- list item 1\n",
    "- list item 2\n",
    "- list item 3\n",
    "\n",
    "1. number 1\n",
    "2. Number 2\n",
    "\n",
    "\n",
    "~~strike~~\n",
    "\n",
    "### This is Header Level 3\n",
    "\n"
   ]
  },
  {
   "cell_type": "code",
   "execution_count": 5,
   "metadata": {},
   "outputs": [
    {
     "name": "stdout",
     "output_type": "stream",
     "text": [
      "after the markdown\n"
     ]
    }
   ],
   "source": [
    "print('after the markdown')"
   ]
  }
 ],
 "metadata": {
  "kernelspec": {
   "display_name": "Python 3",
   "language": "python",
   "name": "python3"
  },
  "language_info": {
   "codemirror_mode": {
    "name": "ipython",
    "version": 3
   },
   "file_extension": ".py",
   "mimetype": "text/x-python",
   "name": "python",
   "nbconvert_exporter": "python",
   "pygments_lexer": "ipython3",
   "version": "3.12.0"
  }
 },
 "nbformat": 4,
 "nbformat_minor": 2
}
