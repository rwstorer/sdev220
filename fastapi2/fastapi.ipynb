{
 "cells": [
  {
   "cell_type": "markdown",
   "metadata": {},
   "source": [
    "# FastAPI\n",
    "\n",
    "## Install FastAPI\n",
    "\n",
    "```bash\n",
    "pip install fastapi\n",
    "pip install 'uvicorn[standard]'\n",
    "```\n",
    "\n",
    "## Running It\n",
    "\n",
    "```bash\n",
    "uvicorn your_python_file:your_app_name --reload\n",
    "```\n",
    "\n",
    "## API Docs\n",
    "\n",
    "### Swagger\n",
    "\n",
    "[http://127.0.0.1:8000/docs](http://127.0.0.1:8000/docs)\n",
    "\n",
    "### ReDoc\n",
    "\n",
    "[http://127.0.0.1:8000/redoc](http://127.0.0.1:8000/redoc)\n",
    "\n"
   ]
  }
 ],
 "metadata": {
  "language_info": {
   "name": "python"
  }
 },
 "nbformat": 4,
 "nbformat_minor": 2
}
