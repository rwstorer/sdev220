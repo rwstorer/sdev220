{
 "cells": [
  {
   "cell_type": "markdown",
   "metadata": {},
   "source": [
    "# Module 2\n",
    "\n",
    "## Reading\n",
    "\n",
    "Read chapters 4, 5, and 6 in the *Introduction to Python textbook\n",
    "\n",
    "## To-do List\n",
    "\n",
    "- Read Chapters 4, 5, and 6.\n",
    "- Complete M02 Programming Assignment - Loops and Conditionals\n",
    "- Complete M02 Case Study: if...else and while\n",
    "- Complete M02 Tutorial - Understanding the Command Line and Django\n",
    "- Post in the M02 Discussions - Desk Checking\n",
    "- Read M03 Final Project Check-In: Proposal\n",
    "- Prepare for Module 3\n",
    "\n",
    "## Chapter 4\n",
    "\n",
    "- Comments with the pound sign\n",
    "- Line continuation with the backslash character\n",
    "- Compare with if, elif, and else\n",
    "\n",
    "### Python Comparison Operators\n",
    "\n",
    "| Comparison | Operator |\n",
    "|:-----------|:--------:|\n",
    "| Equality   | ==       |\n",
    "| inequality | !=       |\n",
    "| less than  | <        |\n",
    "| less than or equal    | <= |\n",
    "| greater than          | >  |\n",
    "| greater than or equal | >= |\n",
    "\n",
    "Python variables with nothing in them (zero length, empty string, a value of *None*) or a value of zero will return **False** in a comparison.\n",
    "\n",
    "### Membership Operator\n",
    "\n",
    "\"in\"\n",
    "\n",
    "### Walrus Operator\n",
    "\n",
    "\":=\""
   ]
  },
  {
   "cell_type": "code",
   "execution_count": 1,
   "metadata": {},
   "outputs": [
    {
     "name": "stdout",
     "output_type": "stream",
     "text": [
      "you guessed it\n"
     ]
    }
   ],
   "source": [
    "# Ch4\n",
    "# 4.1\n",
    "\n",
    "SECRET: int = 5\n",
    "guess: int = int(input('Enter a number between 1 and 10:'))\n",
    "if guess == SECRET:\n",
    "    print('you guessed it')\n",
    "elif guess > SECRET:\n",
    "    print('guess lower')\n",
    "elif guess < SECRET:\n",
    "    print('guess higher')"
   ]
  },
  {
   "cell_type": "code",
   "execution_count": 6,
   "metadata": {},
   "outputs": [
    {
     "name": "stdout",
     "output_type": "stream",
     "text": [
      "Cherry\n",
      "True\n",
      "False\n",
      "Cherry is not green\n",
      "Cherry is small\n",
      "Pea is green\n",
      "Pea is small\n",
      "Watermelon is green\n",
      "Watermelon is not small\n",
      "Pumpkin is not green\n",
      "Pumpkin is not small\n"
     ]
    }
   ],
   "source": [
    "# Ch 4\n",
    "# 4.2\n",
    "\n",
    "class Fruit:\n",
    "    def __init__(self) -> None:\n",
    "        self.small: bool = True\n",
    "        self.green: bool = False\n",
    "        self.the_name: str = 'Fruit'\n",
    "    \n",
    "    def is_small(self) -> bool:\n",
    "        return self.small\n",
    "    \n",
    "    def is_green(self) -> bool:\n",
    "        return self.green\n",
    "    \n",
    "    def name(self) -> str:\n",
    "        return self.the_name\n",
    "    \n",
    "class Cherry(Fruit):\n",
    "    def __init__(self) -> None:\n",
    "        super().__init__()\n",
    "        self.small: bool = True\n",
    "        self.green: bool = False\n",
    "        self.the_name: str = 'Cherry'\n",
    "\n",
    "class Pea(Fruit):\n",
    "    def __init__(self) -> None:\n",
    "        super().__init__()\n",
    "        self.small: bool = True\n",
    "        self.green: bool = True\n",
    "        self.the_name: str = 'Pea'\n",
    "\n",
    "class Watermelon(Fruit):\n",
    "    def __init__(self) -> None:\n",
    "        super().__init__()\n",
    "        self.small: bool = False\n",
    "        self.green: bool = True\n",
    "        self.the_name: str = 'Watermelon'\n",
    "\n",
    "class Pumpkin(Fruit):\n",
    "    def __init__(self) -> None:\n",
    "        super().__init__()\n",
    "        self.small: bool = False\n",
    "        self.green: bool = False\n",
    "        self.the_name: str = 'Pumpkin'\n",
    "\n",
    "cherry = Cherry()\n",
    "pea = Pea()\n",
    "watermelon = Watermelon()\n",
    "pumpkin = Pumpkin()\n",
    "\n",
    "for f in (cherry, pea, watermelon, pumpkin):\n",
    "    if f.is_green():\n",
    "        print(f.name(), 'is green')\n",
    "    else:\n",
    "        print(f.name(), 'is not green')\n",
    "        \n",
    "    if f.is_small():\n",
    "        print(f.name(), 'is small')\n",
    "    else:\n",
    "        print(f.name(), 'is not small')\n"
   ]
  },
  {
   "cell_type": "markdown",
   "metadata": {},
   "source": [
    "## Chapter 5 - Text Strings\n",
    "\n",
    "### Creating\n",
    "\n",
    "You can create with quotes and the str() function.\n",
    "\n",
    "### Escaping\n",
    "\n",
    "Escape with the backslash *\\\\* character.\n",
    "\n",
    "### Concatenate (Combine)\n",
    "\n",
    "Use the \"+\" operator to combine strings or the *join()* function.\n",
    "\n",
    "### Duplicate\n",
    "\n",
    "Use the \"*\" operator to duplicate strings\n",
    "\n",
    "### Address characters within a string\n",
    "\n",
    "By using the [] (left and right square brackets) with a number (starting at 0), you can access every character within a string.\n",
    "\n",
    "### Slicing and Dicing Strings\n",
    "\n",
    "You can get a substring by using a Python slice.\n",
    "\n",
    "### String Length\n",
    "\n",
    "You can get the length of a string using the *len()* function\n",
    "\n",
    "### "
   ]
  },
  {
   "cell_type": "code",
   "execution_count": null,
   "metadata": {},
   "outputs": [],
   "source": [
    "# ch 5\n"
   ]
  },
  {
   "cell_type": "markdown",
   "metadata": {},
   "source": [
    "## Chapter 6\n",
    "\n"
   ]
  },
  {
   "cell_type": "code",
   "execution_count": null,
   "metadata": {},
   "outputs": [],
   "source": [
    "# ch 6\n"
   ]
  }
 ],
 "metadata": {
  "kernelspec": {
   "display_name": "Python 3",
   "language": "python",
   "name": "python3"
  },
  "language_info": {
   "codemirror_mode": {
    "name": "ipython",
    "version": 3
   },
   "file_extension": ".py",
   "mimetype": "text/x-python",
   "name": "python",
   "nbconvert_exporter": "python",
   "pygments_lexer": "ipython3",
   "version": "3.12.0"
  }
 },
 "nbformat": 4,
 "nbformat_minor": 2
}
