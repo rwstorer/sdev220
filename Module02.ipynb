{
 "cells": [
  {
   "cell_type": "markdown",
   "metadata": {},
   "source": [
    "# Module 2\n",
    "\n",
    "## Reading\n",
    "\n",
    "Read chapters 4, 5, and 6 in the *Introduction to Python textbook\n",
    "\n",
    "## To-do List\n",
    "\n",
    "- Read Chapters 4, 5, and 6.\n",
    "- Complete M02 Programming Assignment - Loops and Conditionals\n",
    "- Complete M02 Case Study: if...else and while\n",
    "- Complete M02 Tutorial - Understanding the Command Line and Django\n",
    "- Post in the M02 Discussions - Desk Checking\n",
    "- Read M03 Final Project Check-In: Proposal\n",
    "- Prepare for Module 3\n",
    "\n",
    "## Chapter 4\n",
    "\n",
    "- Comments with the pound sign\n",
    "- Line continuation with the backslash character\n",
    "- Compare with if, elif, and else\n",
    "\n",
    "### Python Comparison Operators\n",
    "\n",
    "| Comparison | Operator |\n",
    "|:-----------|:--------:|\n",
    "| Equality   | ==       |\n",
    "| inequality | !=       |\n",
    "| less than  | <        |\n",
    "| less than or equal    | <= |\n",
    "| greater than          | >  |\n",
    "| greater than or equal | >= |\n",
    "\n",
    "Python variables with nothing in them (zero length, empty string, a value of *None*) or a value of zero will return **False** in a comparison.\n",
    "\n",
    "### Membership Operator\n",
    "\n",
    "\"in\"\n",
    "\n",
    "### Walrus Operator\n",
    "\n",
    "\":=\""
   ]
  },
  {
   "cell_type": "code",
   "execution_count": 138,
   "metadata": {},
   "outputs": [
    {
     "name": "stdout",
     "output_type": "stream",
     "text": [
      "guess lower\n",
      "nope\n",
      "28\n",
      "True\n",
      "not 5\n",
      "guess is not 5\n",
      "guess is not 5\n"
     ]
    }
   ],
   "source": [
    "# Ch4\n",
    "# 4.1\n",
    "\n",
    "SECRET: int = 5\n",
    "guess: int = 6 #int(input('Enter a number between 1 and 10:'))\n",
    "if guess == SECRET:\n",
    "    print('you guessed it')\n",
    "elif guess > SECRET:\n",
    "    print('guess lower')\n",
    "elif guess < SECRET:\n",
    "    print('guess higher')\n",
    "    \n",
    "if guess == 5 and guess != 4:\n",
    "    print('guess = 5')\n",
    "else:\n",
    "    print('nope')\n",
    "\n",
    "ival: int = (5+2)*4\n",
    "print(ival)\n",
    "\n",
    "bval1: bool = True\n",
    "bval2: bool = False\n",
    "print( bval1 and not bval2)\n",
    "if guess != 5:\n",
    "    print('not 5')\n",
    "\n",
    "# this is the same\n",
    "if 5 < guess and guess > 5:\n",
    "    print('guess is not 5')\n",
    "\n",
    "# as this\n",
    "if 5 < guess > 5:\n",
    "    print('guess is not 5')\n"
   ]
  },
  {
   "cell_type": "code",
   "execution_count": 139,
   "metadata": {},
   "outputs": [
    {
     "name": "stdout",
     "output_type": "stream",
     "text": [
      "Cherry is not green\n",
      "Cherry is small\n",
      "Pea is green\n",
      "Pea is small\n",
      "Watermelon is green\n",
      "Watermelon is not small\n",
      "Pumpkin is not green\n",
      "Pumpkin is not small\n"
     ]
    }
   ],
   "source": [
    "# Ch 4\n",
    "# 4.2\n",
    "\n",
    "class Fruit:\n",
    "    def __init__(self) -> None:\n",
    "        self.small: bool = True\n",
    "        self.green: bool = False\n",
    "        self.the_name: str = 'Fruit'\n",
    "    \n",
    "    def is_small(self) -> bool:\n",
    "        return self.small\n",
    "    \n",
    "    def is_green(self) -> bool:\n",
    "        return self.green\n",
    "    \n",
    "    def name(self) -> str:\n",
    "        return self.the_name\n",
    "    \n",
    "class Cherry(Fruit):\n",
    "    def __init__(self) -> None:\n",
    "        super().__init__()\n",
    "        self.small: bool = True\n",
    "        self.green: bool = False\n",
    "        self.the_name: str = 'Cherry'\n",
    "\n",
    "class Pea(Fruit):\n",
    "    def __init__(self) -> None:\n",
    "        super().__init__()\n",
    "        self.small: bool = True\n",
    "        self.green: bool = True\n",
    "        self.the_name: str = 'Pea'\n",
    "\n",
    "class Watermelon(Fruit):\n",
    "    def __init__(self) -> None:\n",
    "        super().__init__()\n",
    "        self.small: bool = False\n",
    "        self.green: bool = True\n",
    "        self.the_name: str = 'Watermelon'\n",
    "\n",
    "class Pumpkin(Fruit):\n",
    "    def __init__(self) -> None:\n",
    "        super().__init__()\n",
    "        self.small: bool = False\n",
    "        self.green: bool = False\n",
    "        self.the_name: str = 'Pumpkin'\n",
    "\n",
    "cherry = Cherry()\n",
    "pea = Pea()\n",
    "watermelon = Watermelon()\n",
    "pumpkin = Pumpkin()\n",
    "\n",
    "for f in (cherry, pea, watermelon, pumpkin):\n",
    "    if f.is_green():\n",
    "        print(f.name(), 'is green')\n",
    "    else:\n",
    "        print(f.name(), 'is not green')\n",
    "        \n",
    "    if f.is_small():\n",
    "        print(f.name(), 'is small')\n",
    "    else:\n",
    "        print(f.name(), 'is not small')\n"
   ]
  },
  {
   "cell_type": "code",
   "execution_count": 140,
   "metadata": {},
   "outputs": [
    {
     "name": "stdout",
     "output_type": "stream",
     "text": [
      "1\n",
      "2\n",
      "3\n",
      "4\n",
      "5\n",
      "6\n",
      "7\n",
      "8\n",
      "9\n",
      "10\n",
      "1\n",
      "2\n",
      "3\n"
     ]
    }
   ],
   "source": [
    "one_to_ten: list = [1,2,3,4,5,6,7,8,9,10]\n",
    "\n",
    "for i in one_to_ten:\n",
    "    print(i)\n",
    "\n",
    "dval: dict = {'a': 1, 'b': 2, 'c': 3}\n",
    "\n",
    "for k in dval.keys():\n",
    "    print(dval[k])\n"
   ]
  },
  {
   "cell_type": "code",
   "execution_count": 141,
   "metadata": {},
   "outputs": [
    {
     "name": "stdout",
     "output_type": "stream",
     "text": [
      "False\n",
      "True\n",
      "True\n"
     ]
    }
   ],
   "source": [
    "val1: bool = False\n",
    "val2: bool = False\n",
    "\n",
    "print(val1 and val2)\n",
    "\n",
    "val1 = True\n",
    "val2 = True\n",
    "print(val1 and val2)\n",
    "\n",
    "val1 = False\n",
    "val2 = True\n",
    "print(val1 or val2)"
   ]
  },
  {
   "cell_type": "markdown",
   "metadata": {},
   "source": [
    "## Chapter 5 - Text Strings"
   ]
  },
  {
   "cell_type": "code",
   "execution_count": 142,
   "metadata": {},
   "outputs": [
    {
     "name": "stdout",
     "output_type": "stream",
     "text": [
      "5.1\n",
      "When an eel grabs your arm,\n",
      "And it causes great harm,\n",
      "That's - a Moray! \n",
      "5.2\n",
      "Q: We don't serve strings around here. Are you a string?\n",
      "A: An exploding sheep.\n",
      "Q: What is said on Father's Day in the forest?\n",
      "A: No, I'm a frayed knot.\n",
      "Q: What makes the sound 'Sis! Boom! Bah!'?\n",
      "A: Pop!' goes the weasel.\n"
     ]
    }
   ],
   "source": [
    "# ch 5\n",
    "\n",
    "#5.1\n",
    "print('5.1')\n",
    "song: str = \"\"\"When an eel grabs your arm,\n",
    "And it causes great harm,\n",
    "That's - a moray!\"\"\"\n",
    "\n",
    "i: int = 0\n",
    "for word in song.split(' '):\n",
    "    if word[0] != 'm':\n",
    "        print(word, end=' ')\n",
    "    else:\n",
    "        print(word.capitalize(), end=' ')\n",
    "print()\n",
    "\n",
    "# 5.2\n",
    "print('5.2')\n",
    "questions: list = [\n",
    "    'We don\\'t serve strings around here. Are you a string?',\n",
    "    'What is said on Father\\'s Day in the forest?',\n",
    "    'What makes the sound \\'Sis! Boom! Bah!\\'?'\n",
    "]\n",
    "\n",
    "answers: list = [\n",
    "    'An exploding sheep.',\n",
    "    'No, I\\'m a frayed knot.',\n",
    "    'Pop!\\' goes the weasel.'\n",
    "]\n",
    "\n",
    "for i in range(len(questions)):\n",
    "    print(f\"Q: {questions[i]}\")\n",
    "    print(f\"A: {answers[i]}\")\n"
   ]
  },
  {
   "cell_type": "code",
   "execution_count": 143,
   "metadata": {},
   "outputs": [
    {
     "name": "stdout",
     "output_type": "stream",
     "text": [
      "10\n",
      "<class 'str'> 10\n",
      "<class 'int'> 10\n",
      "\"ten\"\n",
      "ten\n",
      "\"\n",
      "n\n",
      "ten\"\n",
      "en\"\n",
      "\"t\n"
     ]
    }
   ],
   "source": [
    "\"\"\"line 1: 'test'\"\"\"\n",
    "print(str(10))\n",
    "sten: str = '10'\n",
    "iten: int = int(sten)\n",
    "print(type(sten), sten)\n",
    "print(type(iten), iten)\n",
    "\n",
    "sten = \"\\\"ten\\\"\"\n",
    "print(sten)\n",
    "print(sten[1:4])\n",
    "# print the last char\n",
    "print(sten[(len(sten)-1)])\n",
    "print(sten[-2])\n",
    "print(sten[1:])\n",
    "print(sten[-3:])\n",
    "print(sten[:-3])"
   ]
  },
  {
   "cell_type": "markdown",
   "metadata": {},
   "source": [
    "## Chapter 6\n",
    "\n"
   ]
  },
  {
   "cell_type": "code",
   "execution_count": 144,
   "metadata": {},
   "outputs": [],
   "source": [
    "# ch 6 - Loop with while and for"
   ]
  },
  {
   "cell_type": "code",
   "execution_count": 145,
   "metadata": {},
   "outputs": [],
   "source": [
    "# ch 6\n",
    "# We'll do some examples in class\n",
    "\n",
    "# exit the loop when you enter a Q\n",
    "while True:\n",
    "    entry: str = input('Enter a name [q to quit]:')\n",
    "    if entry.upper() == 'Q':\n",
    "        break"
   ]
  },
  {
   "cell_type": "code",
   "execution_count": null,
   "metadata": {},
   "outputs": [],
   "source": [
    "# exit the loop when you enter a Q\n",
    "# test the number to make certain you have a number\n",
    "\n",
    "while True:\n",
    "    entry: str = input('Enter a number [q to quit]:')\n",
    "    if entry.upper() == 'Q':\n",
    "        break\n",
    "    \n",
    "    if entry.isnumeric():\n",
    "        number = int(entry)"
   ]
  },
  {
   "cell_type": "code",
   "execution_count": 2,
   "metadata": {},
   "outputs": [
    {
     "name": "stdout",
     "output_type": "stream",
     "text": [
      "0\n",
      "2\n"
     ]
    }
   ],
   "source": [
    "value: int = 3\n",
    "\n",
    "for i in range(value):\n",
    "    if i == 1:\n",
    "        continue\n",
    "    \n",
    "    print(i)"
   ]
  },
  {
   "cell_type": "code",
   "execution_count": 3,
   "metadata": {},
   "outputs": [
    {
     "name": "stdout",
     "output_type": "stream",
     "text": [
      "0\n",
      "1\n",
      "2\n",
      "3\n",
      "4\n",
      "5\n",
      "6\n",
      "7\n",
      "8\n",
      "9\n"
     ]
    }
   ],
   "source": [
    "lst: list = list( range(0, 10) )\n",
    "for i in lst:\n",
    "    print(i)"
   ]
  },
  {
   "cell_type": "code",
   "execution_count": null,
   "metadata": {},
   "outputs": [],
   "source": [
    "# variables that don't (shouldn't) change--aka--constant\n",
    "DEANS_LIST: float = 3.5\n",
    "HONOR_ROLL: float = 3.25"
   ]
  }
 ],
 "metadata": {
  "kernelspec": {
   "display_name": "Python 3",
   "language": "python",
   "name": "python3"
  },
  "language_info": {
   "codemirror_mode": {
    "name": "ipython",
    "version": 3
   },
   "file_extension": ".py",
   "mimetype": "text/x-python",
   "name": "python",
   "nbconvert_exporter": "python",
   "pygments_lexer": "ipython3",
   "version": "3.12.0"
  }
 },
 "nbformat": 4,
 "nbformat_minor": 2
}
