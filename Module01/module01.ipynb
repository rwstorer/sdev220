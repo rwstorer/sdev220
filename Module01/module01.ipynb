{
 "cells": [
  {
   "cell_type": "markdown",
   "metadata": {},
   "source": [
    "# Chapter 3 - Things to Do\n",
    "\n",
    "**Table of Contents**\n",
    "\n",
    "- [3.1](#31---number-of-seconds-in-an-hour)\n",
    "- [3.2](#32---assign-seconds-per-hour)\n",
    "- [3.3](#33---seconds-in-a-day)\n",
    "- [3.4](#34---save-seconds-in-a-day-to-variable)\n",
    "- [3.5](#35---use-floating-point-division)\n",
    "- [3.6](#36---using-integer-division)\n"
   ]
  },
  {
   "cell_type": "markdown",
   "metadata": {},
   "source": [
    "## 3.1 - Number of Seconds in an Hour"
   ]
  },
  {
   "cell_type": "code",
   "execution_count": 15,
   "metadata": {},
   "outputs": [
    {
     "name": "stdout",
     "output_type": "stream",
     "text": [
      "Number of seconds in an hour: 3600\n"
     ]
    }
   ],
   "source": [
    "SECONDS_IN_MINUTE: int = 60\n",
    "MINUTES_IN_HOUR: int = 60\n",
    "\n",
    "print('Number of seconds in an hour:', SECONDS_IN_MINUTE * MINUTES_IN_HOUR)"
   ]
  },
  {
   "cell_type": "markdown",
   "metadata": {},
   "source": [
    "## 3.2 - Assign Seconds per Hour"
   ]
  },
  {
   "cell_type": "code",
   "execution_count": 16,
   "metadata": {},
   "outputs": [],
   "source": [
    "SECONDS_IN_HOUR: int = 3_600"
   ]
  },
  {
   "cell_type": "markdown",
   "metadata": {},
   "source": [
    "## 3.3 - Seconds in a Day"
   ]
  },
  {
   "cell_type": "code",
   "execution_count": 17,
   "metadata": {},
   "outputs": [
    {
     "name": "stdout",
     "output_type": "stream",
     "text": [
      "Number of seconds in a day: 86400\n"
     ]
    }
   ],
   "source": [
    "HOURS_IN_DAY: int = 24\n",
    "\n",
    "print('Number of seconds in a day:', HOURS_IN_DAY * SECONDS_IN_HOUR)"
   ]
  },
  {
   "cell_type": "markdown",
   "metadata": {},
   "source": [
    "## 3.4 - Save Seconds in a Day to Variable"
   ]
  },
  {
   "cell_type": "code",
   "execution_count": 18,
   "metadata": {},
   "outputs": [],
   "source": [
    "SECONDS_IN_DAY: int = SECONDS_IN_HOUR * HOURS_IN_DAY"
   ]
  },
  {
   "cell_type": "markdown",
   "metadata": {},
   "source": [
    "## 3.5 - Use Floating Point Division"
   ]
  },
  {
   "cell_type": "code",
   "execution_count": 19,
   "metadata": {},
   "outputs": [
    {
     "name": "stdout",
     "output_type": "stream",
     "text": [
      "24.0\n"
     ]
    }
   ],
   "source": [
    "print(SECONDS_IN_DAY / SECONDS_IN_HOUR)"
   ]
  },
  {
   "cell_type": "markdown",
   "metadata": {},
   "source": [
    "## 3.6 - Using Integer Division\n",
    "\n",
    "The number 24 does agree with the previous 24.0 aside from the .0."
   ]
  },
  {
   "cell_type": "code",
   "execution_count": 20,
   "metadata": {},
   "outputs": [
    {
     "name": "stdout",
     "output_type": "stream",
     "text": [
      "24\n"
     ]
    }
   ],
   "source": [
    "print(SECONDS_IN_DAY // SECONDS_IN_HOUR)"
   ]
  }
 ],
 "metadata": {
  "kernelspec": {
   "display_name": "Python 3",
   "language": "python",
   "name": "python3"
  },
  "language_info": {
   "codemirror_mode": {
    "name": "ipython",
    "version": 3
   },
   "file_extension": ".py",
   "mimetype": "text/x-python",
   "name": "python",
   "nbconvert_exporter": "python",
   "pygments_lexer": "ipython3",
   "version": "3.13.1"
  }
 },
 "nbformat": 4,
 "nbformat_minor": 2
}
