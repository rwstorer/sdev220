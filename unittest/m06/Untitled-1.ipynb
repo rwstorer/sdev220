{
 "cells": [
  {
   "cell_type": "markdown",
   "metadata": {},
   "source": [
    "13.1 - Write the current date as a string to th text file *today.txt*"
   ]
  },
  {
   "cell_type": "code",
   "execution_count": 25,
   "metadata": {},
   "outputs": [
    {
     "name": "stdout",
     "output_type": "stream",
     "text": [
      "2025-02-17 20:04:20.897818\n"
     ]
    }
   ],
   "source": [
    "import datetime\n",
    "\n",
    "time_now: datetime = datetime.datetime.now()\n",
    "str_time_now: str = str(time_now)\n",
    "print(str_time_now)"
   ]
  },
  {
   "cell_type": "markdown",
   "metadata": {},
   "source": [
    "13.2 Read the date time from the file\n"
   ]
  },
  {
   "cell_type": "code",
   "execution_count": 26,
   "metadata": {},
   "outputs": [],
   "source": [
    "today_string: str = str_time_now"
   ]
  },
  {
   "cell_type": "markdown",
   "metadata": {},
   "source": [
    "13.3 Parse the date from the today_string"
   ]
  },
  {
   "cell_type": "code",
   "execution_count": null,
   "metadata": {},
   "outputs": [
    {
     "name": "stdout",
     "output_type": "stream",
     "text": [
      "Year: 2025 Month: 02\n"
     ]
    }
   ],
   "source": [
    "import re\n",
    "\n",
    "# 2025-02-17 19:42:08.521713\n",
    "re_matches = re.match(r'^(\\d{4})\\-(\\d{2})\\-(\\d{2}) (\\d{2})\\:(\\d{2})\\:(\\d{2})\\.(\\d+)$', today_string)\n",
    "#date_time_split: tuple = today_string.split(\" \")\n",
    "#year_mo_day: tuple = date_time_split[0].split(\"-\")\n",
    "#time_split: tuple = date_time_split[1].split(':')\n",
    "matches: tuple = re_matches.groups()\n",
    "print(f\"Year: {matches[0]} Month: {matches[1]}\")"
   ]
  },
  {
   "cell_type": "markdown",
   "metadata": {},
   "source": [
    "15.1 Use multiprocessing to create three separate processes.\n",
    "Make each one wait a random number of seconds between zero and one,\n",
    "print the current time, and then exit."
   ]
  },
  {
   "cell_type": "code",
   "execution_count": null,
   "metadata": {},
   "outputs": [
    {
     "name": "stdout",
     "output_type": "stream",
     "text": [
      "0.7215590517037279\n",
      "2025-02-19 19:22:38.484952\n",
      "0.9110357997685986\n",
      "2025-02-19 19:22:39.551858\n",
      "0.23062830750737728\n",
      "2025-02-19 19:22:39.926710\n"
     ]
    }
   ],
   "source": [
    "# This code does not output the correct print statements from the mp_demo function within the Jupyter Notebook\n",
    "# It will output correctly from a stand-alone Python file\n",
    "from os import getpid\n",
    "import multiprocessing as mp\n",
    "import random\n",
    "from datetime import datetime\n",
    "from time import sleep\n",
    "\n",
    "def mp_demo(proc_num):\n",
    "    print(\"process id:\", getpid(), \". Proc num\", proc_num)\n",
    "\n",
    "if __name__ == \"__main__\":\n",
    "    for i in range(0,3):\n",
    "        num_seconds = random.random()\n",
    "        print(num_seconds)\n",
    "        p = mp.Process(target=mp_demo, args=(i,))\n",
    "        p.start()\n",
    "        p.join()\n",
    "        sleep(num_seconds)\n",
    "        print(datetime.now())"
   ]
  }
 ],
 "metadata": {
  "kernelspec": {
   "display_name": "Python 3",
   "language": "python",
   "name": "python3"
  },
  "language_info": {
   "codemirror_mode": {
    "name": "ipython",
    "version": 3
   },
   "file_extension": ".py",
   "mimetype": "text/x-python",
   "name": "python",
   "nbconvert_exporter": "python",
   "pygments_lexer": "ipython3",
   "version": "3.13.1"
  }
 },
 "nbformat": 4,
 "nbformat_minor": 2
}
