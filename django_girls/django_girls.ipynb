{
 "cells": [
  {
   "attachments": {},
   "cell_type": "markdown",
   "metadata": {},
   "source": [
    "# Django Girls Tutorial for SDEV 220: Python\n",
    "\n",
    "Tutorial URL: https://tutorial.djangogirls.org/en/\n",
    "We will cover the following sections:\n",
    "  - Django installation\n",
    "  - Your first Django project!\n",
    "  - Django Models\n",
    "  - Django admin\n",
    "**NOTE: I'm using a Windows environment. You will need to change your commands if you use Linux or MacOS. For example, you'll need to use python3 and pip3 where you see python(.exe) or pip(.exe) below.**\n",
    "\n",
    "## Setup the Virtual Environment\n",
    "1. Create a folder for your project (I created django_girls)\n",
    "2. (optional) Add a .gitignore for the myvenv folder so that you don't store the virtual environment in your git repository.\n",
    "3. Create a Python virtual environment\n",
    "4. Activate the virtual environment\n",
    "**NOTE: My default shell is PowerShell. So, I used the Activate.ps1 script. If your default shell is CMD.EXE, you should use the activate.bat batch file. Linux and MacOS will probably just use activate.**\n",
    "My command line changed to look something like this: (myvenv) PS C:\\django_girls>\n",
    "Just make sure you see the \"(myvenv)\" to the left of your prompt.\n",
    "5. (optional) Confirm git will ignore the myvenv/ folder. Git should list the ignored folders in red."
   ]
  },
  {
   "cell_type": "code",
   "execution_count": null,
   "metadata": {
    "vscode": {
     "languageId": "powershell"
    }
   },
   "outputs": [],
   "source": [
    "# 1\n",
    "mkdir django_girls\n",
    "Set-Location django_girls\n",
    "# 2\n",
    "# Optionally ignore the myvenv folder; note that ascii encoding is required\n",
    "\"myvenv/\" | Out-File -Encoding ascii -Force \".\\.gitignore\"\n",
    "git add .gitignore\n",
    "git commit -m 'gitignore'\n",
    "# 3\n",
    "python -m venv myvenv\n",
    "# 4\n",
    ".\\myvenv\\Scripts\\Activate.ps1\n",
    "# 5 optional\n",
    "git status --ignored"
   ]
  },
  {
   "attachments": {},
   "cell_type": "markdown",
   "metadata": {},
   "source": [
    "## Install Django\n",
    "1. If using a virtual environment, make certain you have the virtual environment activated.\n",
    "2. Upgrade pip\n",
    "3. Install the Django module (I choose not to use the requirements.txt file)\n"
   ]
  },
  {
   "cell_type": "code",
   "execution_count": null,
   "metadata": {
    "vscode": {
     "languageId": "powershell"
    }
   },
   "outputs": [],
   "source": [
    "# 1\n",
    ". .\\myvenv\\Scripts\\Activate.ps1\n",
    "# 2\n",
    "python -m pip install --upgrade pip\n",
    "# 3\n",
    "pip install django"
   ]
  },
  {
   "attachments": {},
   "cell_type": "markdown",
   "metadata": {},
   "source": [
    "## Your first Django project!\n",
    "1. Create the project structure. You should see a folder called mysite when done. Inside the mysite folder, you'll have several Python files.\n",
    "2. Change your default time zone. Search for the line \"TIME_ZONE\" in the settings.py file and put 'America/Indianapolis' for the time zone.\n",
    "3. Confirm the line LANGUAGE_CODE = 'en-us'\n",
    "4. Go to the end of the file and find the line \"STATIC_URL\". Under that line add: STATIC_ROOT = BASE_DIR / 'static'. Save the file.\n",
    "5. Create a secret key and put it in the new file at the root of your project called \".env\" and open it for editing. In the file, type SECRET=''. Then, copy and paste the string Python generates between the two single quotes. e.g. SECRET='+s%96!na%u&#36vk-u+-nyh=+j=t2&zwx3#7fak&_=5(-(citx'. Save the file.\n",
    "6. Go back to the settings.py file and "
   ]
  },
  {
   "cell_type": "code",
   "execution_count": null,
   "metadata": {
    "vscode": {
     "languageId": "powershell"
    }
   },
   "outputs": [],
   "source": [
    "# 1\n",
    "django-admin.exe startproject mysite .\n",
    "# 2, 3, 4\n",
    "notepad .\\mysite\\settings.py\n",
    "# 5\n",
    "python.exe -c 'from django.core.management.utils import get_random_secret_key; \\\n",
    "print(get_random_secret_key())'\n",
    "notepad .\\.env"
   ]
  }
 ],
 "metadata": {
  "kernelspec": {
   "display_name": "Python 3",
   "language": "python",
   "name": "python3"
  },
  "language_info": {
   "name": "python",
   "version": "3.11.0"
  },
  "orig_nbformat": 4,
  "vscode": {
   "interpreter": {
    "hash": "5238573367df39f7286bb46f9ff5f08f63a01a80960060ce41e3c79b190280fa"
   }
  }
 },
 "nbformat": 4,
 "nbformat_minor": 2
}
