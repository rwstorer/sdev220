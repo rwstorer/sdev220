{
 "cells": [
  {
   "attachments": {},
   "cell_type": "markdown",
   "metadata": {},
   "source": [
    "# Django Girls Tutorial for SDEV 220: Python\n",
    "\n",
    "Tutorial URL: https://tutorial.djangogirls.org/en/\n",
    "We will cover the following sections: Django installation, Your first Django project!, Django Models, and Django admin\n",
    "**NOTE: I'm using a Windows environment. You will need to change your commands if you use Linux or MacOS. For example, you'll need to use python3 and pip3 where you see python or pip below.**\n",
    "\n",
    "## Django Installation\n",
    "1. Create a folder for your project (I created django_girls)\n",
    "2. Create a Python virtual environment\n",
    "    (optional) Add a .gitignore for the myvenv folder so that you don't store the virtual environment in your git repository.\n",
    "3. Activate the virtual environment"
   ]
  },
  {
   "cell_type": "code",
   "execution_count": null,
   "metadata": {
    "vscode": {
     "languageId": "bat"
    }
   },
   "outputs": [],
   "source": [
    "REM 1\n",
    "mkdir django_girls\n",
    "cd django_girls\n",
    "REM 2\n",
    "python -m venv myvenv\n",
    "REM Optionally ignore the myvenv folder\n",
    "echo \"myvenv/*\" >> .\\.gitignore\n",
    "REM 3\n",
    ".\\myvenv\\Scripts\\activate"
   ]
  },
  {
   "cell_type": "markdown",
   "metadata": {},
   "source": []
  }
 ],
 "metadata": {
  "language_info": {
   "name": "python"
  },
  "orig_nbformat": 4
 },
 "nbformat": 4,
 "nbformat_minor": 2
}
