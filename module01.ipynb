{
 "cells": [
  {
   "cell_type": "code",
   "execution_count": null,
   "metadata": {},
   "outputs": [
    {
     "name": "stdout",
     "output_type": "stream",
     "text": [
      "Seconds in an hour 3600\n"
     ]
    }
   ],
   "source": [
    "# 3.1\n",
    "SECONDS_IN_MINUTE: int = 60\n",
    "NUM_MINUTES_IN_HOUR: int = 60\n",
    "print(\"Seconds in an hour\", NUM_MINUTES_IN_HOUR * SECONDS_IN_MINUTE)"
   ]
  },
  {
   "cell_type": "code",
   "execution_count": 3,
   "metadata": {},
   "outputs": [],
   "source": [
    "# 3.2\n",
    "SECONDS_PER_HOUR: int = 3600"
   ]
  },
  {
   "cell_type": "code",
   "execution_count": null,
   "metadata": {},
   "outputs": [
    {
     "name": "stdout",
     "output_type": "stream",
     "text": [
      "<class 'int'>\n",
      "<class 'str'>\n",
      "|\n",
      "line1\n",
      "line2\n",
      "line3\n",
      "|\n"
     ]
    }
   ],
   "source": [
    "def is_odd(v: int) -> bool:\n",
    "    \"\"\"determine if v is odd or not\n",
    "\n",
    "    Args:\n",
    "        v (int): an integer\n",
    "\n",
    "    Returns:\n",
    "        bool: true if odd, otherwise false\n",
    "    \"\"\"\n",
    "    return v % 2 > 0\n",
    "\n",
    "\n",
    "def is_even(v: int) -> bool:\n",
    "    \"\"\"determine if v is even or not\n",
    "\n",
    "    Args:\n",
    "        v (int): an integer\n",
    "\n",
    "    Returns:\n",
    "        bool: true if even, otherwise false\n",
    "    \"\"\"\n",
    "    return v % 2 == 0\n",
    "\n",
    "my_int: int = 5  # this is an integer\n",
    "print(type(my_int))\n",
    "fname: str = 'Ray'\n",
    "my_int = 'Ray'\n",
    "print(type(my_int))\n",
    "\n",
    "my_s: str = \"\"\"\n",
    "line1\n",
    "line2\n",
    "line3\n",
    "\"\"\"\n",
    "print(f\"|{my_s}|\")\n"
   ]
  },
  {
   "cell_type": "code",
   "execution_count": null,
   "metadata": {},
   "outputs": [
    {
     "name": "stdout",
     "output_type": "stream",
     "text": [
      "1\n",
      "2\n",
      "3\n",
      "1\n",
      "2\n",
      "3\n"
     ]
    }
   ],
   "source": [
    "tpl: tuple = (1,2,3)\n",
    "lst: list = [1,2,3]\n",
    "\n",
    "for itm in tpl:\n",
    "    print(itm)\n",
    "    \n",
    "for itm in lst:\n",
    "    print(itm)\n",
    "    \n",
    "print(tpl[-1]) # last item in the tuple"
   ]
  },
  {
   "cell_type": "code",
   "execution_count": null,
   "metadata": {},
   "outputs": [],
   "source": [
    "s: str = 'so and so said, \"this is it!\"'\n",
    "s2: str = 'something'\n",
    "s3: str = \"Ray's hat\""
   ]
  },
  {
   "cell_type": "code",
   "execution_count": null,
   "metadata": {},
   "outputs": [
    {
     "name": "stdout",
     "output_type": "stream",
     "text": [
      "2\n"
     ]
    }
   ],
   "source": [
    "d: dict = {\n",
    "    'one': 1,\n",
    "    'two': 2,\n",
    "    'three': 3\n",
    "}\n",
    "\n",
    "print(d['two'])"
   ]
  },
  {
   "cell_type": "code",
   "execution_count": null,
   "metadata": {},
   "outputs": [],
   "source": []
  }
 ],
 "metadata": {
  "kernelspec": {
   "display_name": "Python 3",
   "language": "python",
   "name": "python3"
  },
  "language_info": {
   "codemirror_mode": {
    "name": "ipython",
    "version": 3
   },
   "file_extension": ".py",
   "mimetype": "text/x-python",
   "name": "python",
   "nbconvert_exporter": "python",
   "pygments_lexer": "ipython3",
   "version": "3.13.1"
  }
 },
 "nbformat": 4,
 "nbformat_minor": 2
}
